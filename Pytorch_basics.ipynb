{
  "nbformat": 4,
  "nbformat_minor": 0,
  "metadata": {
    "colab": {
      "provenance": [],
      "authorship_tag": "ABX9TyPQt5AqmYb7HKs97qGhY7O4",
      "include_colab_link": true
    },
    "kernelspec": {
      "name": "python3",
      "display_name": "Python 3"
    },
    "language_info": {
      "name": "python"
    }
  },
  "cells": [
    {
      "cell_type": "markdown",
      "metadata": {
        "id": "view-in-github",
        "colab_type": "text"
      },
      "source": [
        "<a href=\"https://colab.research.google.com/github/gozdeydd/nlp_all/blob/main/Pytorch_basics.ipynb\" target=\"_parent\"><img src=\"https://colab.research.google.com/assets/colab-badge.svg\" alt=\"Open In Colab\"/></a>"
      ]
    },
    {
      "cell_type": "code",
      "execution_count": 3,
      "metadata": {
        "id": "x-vJ667lsGNS"
      },
      "outputs": [],
      "source": [
        "import torch"
      ]
    },
    {
      "cell_type": "markdown",
      "source": [
        "###Creating a tensor"
      ],
      "metadata": {
        "id": "8LVuJ7Yn6JB5"
      }
    },
    {
      "cell_type": "code",
      "source": [
        "print(torch.rand(5))"
      ],
      "metadata": {
        "colab": {
          "base_uri": "https://localhost:8080/"
        },
        "id": "aoyLR4KEtZg8",
        "outputId": "74c3bad9-646c-4746-9c51-561dbe0e898f"
      },
      "execution_count": 4,
      "outputs": [
        {
          "output_type": "stream",
          "name": "stdout",
          "text": [
            "tensor([0.7506, 0.1012, 0.3359, 0.7313, 0.2522])\n"
          ]
        }
      ]
    },
    {
      "cell_type": "code",
      "source": [
        "tsnr = torch.Tensor([[[3,2],[1,5]],[[6,4],[9,6]],[[2,4],[0,5]]])"
      ],
      "metadata": {
        "id": "qCNLXQhztgY0"
      },
      "execution_count": 5,
      "outputs": []
    },
    {
      "cell_type": "code",
      "source": [
        "tsnr"
      ],
      "metadata": {
        "colab": {
          "base_uri": "https://localhost:8080/"
        },
        "id": "pZ3TYKSevbbb",
        "outputId": "b0905bbf-fbcc-4b60-c8a9-f56fb70b8e72"
      },
      "execution_count": 6,
      "outputs": [
        {
          "output_type": "execute_result",
          "data": {
            "text/plain": [
              "tensor([[[3., 2.],\n",
              "         [1., 5.]],\n",
              "\n",
              "        [[6., 4.],\n",
              "         [9., 6.]],\n",
              "\n",
              "        [[2., 4.],\n",
              "         [0., 5.]]])"
            ]
          },
          "metadata": {},
          "execution_count": 6
        }
      ]
    },
    {
      "cell_type": "code",
      "source": [
        "tsnr.device"
      ],
      "metadata": {
        "colab": {
          "base_uri": "https://localhost:8080/"
        },
        "id": "HEla12UTwc-4",
        "outputId": "fc69588f-5855-402e-da38-0a830ef4c328"
      },
      "execution_count": 7,
      "outputs": [
        {
          "output_type": "execute_result",
          "data": {
            "text/plain": [
              "device(type='cpu')"
            ]
          },
          "metadata": {},
          "execution_count": 7
        }
      ]
    },
    {
      "cell_type": "code",
      "source": [
        "tsnr.shape # ilk rakam kac element var sonraki iki elementler nasil. burda 2X2 3 element var"
      ],
      "metadata": {
        "colab": {
          "base_uri": "https://localhost:8080/"
        },
        "id": "gleCY5d2wqJV",
        "outputId": "4099e8f5-1836-4215-c3b7-d7a5a92f15bd"
      },
      "execution_count": 8,
      "outputs": [
        {
          "output_type": "execute_result",
          "data": {
            "text/plain": [
              "torch.Size([3, 2, 2])"
            ]
          },
          "metadata": {},
          "execution_count": 8
        }
      ]
    },
    {
      "cell_type": "code",
      "source": [
        "tsnr[1]"
      ],
      "metadata": {
        "colab": {
          "base_uri": "https://localhost:8080/"
        },
        "id": "bIDlbvsmw1R0",
        "outputId": "318f9719-b88d-4804-96ec-28cf74ca487f"
      },
      "execution_count": 9,
      "outputs": [
        {
          "output_type": "execute_result",
          "data": {
            "text/plain": [
              "tensor([[6., 4.],\n",
              "        [9., 6.]])"
            ]
          },
          "metadata": {},
          "execution_count": 9
        }
      ]
    },
    {
      "cell_type": "code",
      "source": [
        "torch.ones_like(tsnr)"
      ],
      "metadata": {
        "colab": {
          "base_uri": "https://localhost:8080/"
        },
        "id": "aExHdoovw2W_",
        "outputId": "1d18e74f-8522-44eb-86b9-76979c088a5f"
      },
      "execution_count": 10,
      "outputs": [
        {
          "output_type": "execute_result",
          "data": {
            "text/plain": [
              "tensor([[[1., 1.],\n",
              "         [1., 1.]],\n",
              "\n",
              "        [[1., 1.],\n",
              "         [1., 1.]],\n",
              "\n",
              "        [[1., 1.],\n",
              "         [1., 1.]]])"
            ]
          },
          "metadata": {},
          "execution_count": 10
        }
      ]
    },
    {
      "cell_type": "code",
      "source": [
        "torch.zeros_like(tsnr)"
      ],
      "metadata": {
        "colab": {
          "base_uri": "https://localhost:8080/"
        },
        "id": "6-yhI-gpw2Z2",
        "outputId": "ee33d928-8c7a-4a56-f7a6-cdb67b3b52c2"
      },
      "execution_count": 11,
      "outputs": [
        {
          "output_type": "execute_result",
          "data": {
            "text/plain": [
              "tensor([[[0., 0.],\n",
              "         [0., 0.]],\n",
              "\n",
              "        [[0., 0.],\n",
              "         [0., 0.]],\n",
              "\n",
              "        [[0., 0.],\n",
              "         [0., 0.]]])"
            ]
          },
          "metadata": {},
          "execution_count": 11
        }
      ]
    },
    {
      "cell_type": "code",
      "source": [
        "torch.randn_like(tsnr)"
      ],
      "metadata": {
        "colab": {
          "base_uri": "https://localhost:8080/"
        },
        "id": "4QSD9y2ow2cv",
        "outputId": "c8bf2087-7e5b-46ae-ab06-91b1b7a31c3f"
      },
      "execution_count": 12,
      "outputs": [
        {
          "output_type": "execute_result",
          "data": {
            "text/plain": [
              "tensor([[[-1.8117, -0.5723],\n",
              "         [ 0.7751,  0.8491]],\n",
              "\n",
              "        [[ 1.0118,  0.6157],\n",
              "         [ 1.5587, -0.5982]],\n",
              "\n",
              "        [[ 1.8408, -0.3428],\n",
              "         [-0.0825, -0.6318]]])"
            ]
          },
          "metadata": {},
          "execution_count": 12
        }
      ]
    },
    {
      "cell_type": "code",
      "source": [
        "import torch.nn as nn"
      ],
      "metadata": {
        "id": "KAnIV6u62g2-"
      },
      "execution_count": 13,
      "outputs": []
    },
    {
      "cell_type": "code",
      "source": [
        "linear = nn.Linear(10,2)\n",
        "input = torch.randn(3,10)\n",
        "output = linear(input)\n",
        "output"
      ],
      "metadata": {
        "colab": {
          "base_uri": "https://localhost:8080/"
        },
        "id": "izLfLFBN2wxt",
        "outputId": "a6b7676e-e70e-41d4-904e-969132c4e6aa"
      },
      "execution_count": 14,
      "outputs": [
        {
          "output_type": "execute_result",
          "data": {
            "text/plain": [
              "tensor([[ 1.2594,  0.4294],\n",
              "        [ 0.6250,  1.1788],\n",
              "        [-0.4493,  0.8340]], grad_fn=<AddmmBackward0>)"
            ]
          },
          "metadata": {},
          "execution_count": 14
        }
      ]
    },
    {
      "cell_type": "code",
      "source": [
        "relu = nn.ReLU() #creating a relu object\n",
        "relu_output =relu(output)\n",
        "relu_output"
      ],
      "metadata": {
        "colab": {
          "base_uri": "https://localhost:8080/"
        },
        "id": "4t_aZFNl3z0a",
        "outputId": "44f6802c-8409-4a3d-c7f1-1dde8061b24b"
      },
      "execution_count": 15,
      "outputs": [
        {
          "output_type": "execute_result",
          "data": {
            "text/plain": [
              "tensor([[1.2594, 0.4294],\n",
              "        [0.6250, 1.1788],\n",
              "        [0.0000, 0.8340]], grad_fn=<ReluBackward0>)"
            ]
          },
          "metadata": {},
          "execution_count": 15
        }
      ]
    },
    {
      "cell_type": "markdown",
      "source": [
        "###Optimizers in pytorch"
      ],
      "metadata": {
        "id": "Rx353Mlm5zCz"
      }
    },
    {
      "cell_type": "code",
      "source": [
        "import torch.optim as optim"
      ],
      "metadata": {
        "id": "RRUVJHx0453z"
      },
      "execution_count": 16,
      "outputs": []
    },
    {
      "cell_type": "code",
      "source": [
        "mlp_laye = nn.Sequential(nn.Linear(5,2), nn.BatchNorm1d(2),nn.ReLU())\n",
        "mlp_laye"
      ],
      "metadata": {
        "colab": {
          "base_uri": "https://localhost:8080/"
        },
        "id": "J9SYsXeS6kLc",
        "outputId": "677a13fe-9d57-4b78-ce75-3719229bb7a0"
      },
      "execution_count": 17,
      "outputs": [
        {
          "output_type": "execute_result",
          "data": {
            "text/plain": [
              "Sequential(\n",
              "  (0): Linear(in_features=5, out_features=2, bias=True)\n",
              "  (1): BatchNorm1d(2, eps=1e-05, momentum=0.1, affine=True, track_running_stats=True)\n",
              "  (2): ReLU()\n",
              ")"
            ]
          },
          "metadata": {},
          "execution_count": 17
        }
      ]
    },
    {
      "cell_type": "code",
      "source": [
        "#trying this nn\n",
        "input = torch.randn(5,5) + 1\n",
        "input"
      ],
      "metadata": {
        "colab": {
          "base_uri": "https://localhost:8080/"
        },
        "id": "_3WUwFN374_y",
        "outputId": "7b6dfcce-daf0-43fb-ca3a-bb89b8d511a7"
      },
      "execution_count": 18,
      "outputs": [
        {
          "output_type": "execute_result",
          "data": {
            "text/plain": [
              "tensor([[ 0.1186,  2.9115,  0.0135,  1.3685,  0.9707],\n",
              "        [ 2.4184,  1.0748,  0.3752,  0.8036,  1.3941],\n",
              "        [ 1.9864, -0.3987,  0.2418,  0.4000,  0.6596],\n",
              "        [ 0.6670,  1.7851,  1.5104,  0.5331,  1.1859],\n",
              "        [-0.1917, -1.5268,  1.5374,  0.6736,  0.9955]])"
            ]
          },
          "metadata": {},
          "execution_count": 18
        }
      ]
    },
    {
      "cell_type": "code",
      "source": [
        "mlp_laye(input)"
      ],
      "metadata": {
        "colab": {
          "base_uri": "https://localhost:8080/"
        },
        "id": "7HzBKbMp8P1Q",
        "outputId": "ce2a6f08-538c-4e3f-8d09-ab18626940e2"
      },
      "execution_count": 19,
      "outputs": [
        {
          "output_type": "execute_result",
          "data": {
            "text/plain": [
              "tensor([[0.0000, 1.3793],\n",
              "        [0.5466, 0.0000],\n",
              "        [0.8324, 0.0000],\n",
              "        [0.0000, 0.8862],\n",
              "        [0.6087, 0.0000]], grad_fn=<ReluBackward0>)"
            ]
          },
          "metadata": {},
          "execution_count": 19
        }
      ]
    },
    {
      "cell_type": "code",
      "source": [
        "adam_opt = optim.Adam(mlp_laye.parameters(), lr= 1e-1)\n",
        "adam_opt"
      ],
      "metadata": {
        "colab": {
          "base_uri": "https://localhost:8080/"
        },
        "id": "ICQ-8LbZ8iB2",
        "outputId": "4a3edbfe-6502-45b5-8439-769f33ca1db8"
      },
      "execution_count": 20,
      "outputs": [
        {
          "output_type": "execute_result",
          "data": {
            "text/plain": [
              "Adam (\n",
              "Parameter Group 0\n",
              "    amsgrad: False\n",
              "    betas: (0.9, 0.999)\n",
              "    capturable: False\n",
              "    differentiable: False\n",
              "    eps: 1e-08\n",
              "    foreach: None\n",
              "    fused: None\n",
              "    lr: 0.1\n",
              "    maximize: False\n",
              "    weight_decay: 0\n",
              ")"
            ]
          },
          "metadata": {},
          "execution_count": 20
        }
      ]
    },
    {
      "cell_type": "code",
      "source": [
        "train_ex = torch.randn(100,5) + 1\n",
        "adam_opt.zero_grad()\n",
        "curr_loss = torch.abs(1-mlp_laye(train_ex)).mean()\n",
        "curr_loss.backward()"
      ],
      "metadata": {
        "id": "qKWva_BBE27b"
      },
      "execution_count": 22,
      "outputs": []
    },
    {
      "cell_type": "code",
      "source": [
        "adam_opt.step()\n",
        "print(curr_loss)"
      ],
      "metadata": {
        "colab": {
          "base_uri": "https://localhost:8080/"
        },
        "id": "UQoygMJ5G9OW",
        "outputId": "1b394fe2-1444-471a-a02d-25614159aeca"
      },
      "execution_count": 23,
      "outputs": [
        {
          "output_type": "stream",
          "name": "stdout",
          "text": [
            "tensor(0.7451, grad_fn=<MeanBackward0>)\n"
          ]
        }
      ]
    }
  ]
}